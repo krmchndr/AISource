#website summary
#imports
import os
import requests
from dotenv  import load_dotenv
from bs4 import BeatuifulSoup
from IPython.display import Markdown, display
from openai import OpenAI
wb = Website("https://ainector.com")

#load env variables
load_dotenv(override=True)
api_key=os.getenv('OPENAI_API_KEY')
if not api_key:
    print("api key not found")


#create openai instance
openai=OpenAI()
msg="Hi GPT, help me in getting website summary"
rsp=openai.chat.completions.create(model="gpt-4o-mini", msgs=[{"role":"user", "content":msg}])
print(rsp.choices[0].message.content)


class Website:
    def __init__(self, url):
        self.url=url
        rsp=requests.get(url, headers={"User-Agent":"Mozilla/5.0"})
        soup=BeatuifulSoup(response.content, 'html-parser')
        self.title = soup.title.string if soup.title else "No title found"
        for irr in soup.body(["script", "style", "img", "input"]):
            irr.decompose()
        self.text=soup.body.get_text(seperator="\n", strip=True)

wb = Website("https://ainector.com")

print(wb.title)
print(wb.text)

